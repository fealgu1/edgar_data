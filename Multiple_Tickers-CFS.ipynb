{
 "cells": [
  {
   "cell_type": "code",
   "execution_count": null,
   "id": "5c2b8e92",
   "metadata": {},
   "outputs": [],
   "source": [
    "import os\n",
    "import pandas as pd\n",
    "import numpy as np  # make sure to add\n",
    "import requests\n",
    "from bs4 import BeautifulSoup\n",
    "import logging  # make sure to add\n",
    "import calendar  # make sure to add\n",
    "from headers import headers  # change to your own headers file or add variable in code\n",
    "from edgar_functions import *\n",
    "import json\n",
    "#tickers = ['AAPL', 'GOOGL', 'MSFT', 'AMZN'] "
   ]
  },
  {
   "cell_type": "code",
   "execution_count": null,
   "id": "d39d24ee",
   "metadata": {},
   "outputs": [],
   "source": [
    "\n",
    "#data = pd.read_csv('tickers.csv', header=None)\n",
    "#tickers = data.values.T[0].tolist()\n",
    "#ticker = ticker[60:64]\n",
    "#tickers"
   ]
  },
  {
   "cell_type": "markdown",
   "id": "31c8aa71",
   "metadata": {},
   "source": [
    "## Second try "
   ]
  },
  {
   "cell_type": "code",
   "execution_count": null,
   "id": "fa6b31c3",
   "metadata": {},
   "outputs": [],
   "source": [
    "def get_statements_for_tickers(tickers, statement_name):\n",
    "    \"\"\"\n",
    "    Retrieves financial statements for multiple tickers.\n",
    "\n",
    "    Args:\n",
    "        tickers (list): List of stock ticker symbols.\n",
    "        statement_name (str): Name of the financial statement.\n",
    "\n",
    "    Returns:\n",
    "        pd.DataFrame: Concatenated DataFrame containing financial statements for all tickers.\n",
    "    \"\"\"\n",
    "    dfs = []  # List to store DataFrames for each ticker\n",
    "    for ticker in tickers:\n",
    "        try:\n",
    "            # Get accession number\n",
    "            accn = get_filtered_filings(ticker, ten_k=False, just_accession_numbers=True, headers=headers)\n",
    "            acc_num = accn.iloc[0].replace('-', '')\n",
    "\n",
    "            # Process statement\n",
    "            df = process_one_statement(ticker, acc_num, statement_name)\n",
    "            \n",
    "            # Append DataFrame to list with ticker column\n",
    "            if df is not None:\n",
    "                df['Ticker'] = ticker  # Add ticker column\n",
    "                dfs.append(df)\n",
    "            else:\n",
    "                print(f\"Failed to process statement for ticker: {ticker}\")\n",
    "        except Exception as e:\n",
    "            print(f\"Error processing ticker {ticker}: {e}\")\n",
    "\n",
    "    # Concatenate DataFrames for all tickers\n",
    "    if len(dfs) > 0:\n",
    "        return pd.concat(dfs)\n",
    "    else:\n",
    "        return None\n",
    "\n",
    "# Example usage:\n",
    "tickers = ['DAL']  # Example list of tickers\n",
    "statement_name =\"cash_flow_statement\" #\"income_statement\" #'balance_sheet'  # Example statement name\n",
    "result_df = get_statements_for_tickers(tickers, statement_name)\n",
    "\n",
    "result_df.head()\n"
   ]
  },
  {
   "cell_type": "code",
   "execution_count": null,
   "id": "078f422f",
   "metadata": {},
   "outputs": [],
   "source": [
    "\n",
    "result_df = result_df.reset_index()\n",
    "result_df[['taxonomy', 'fact_taxonomy']] = result_df['index'].str.split('_', expand=True)"
   ]
  },
  {
   "cell_type": "code",
   "execution_count": null,
   "id": "e7d5463e",
   "metadata": {},
   "outputs": [],
   "source": [
    "result_df"
   ]
  },
  {
   "cell_type": "code",
   "execution_count": null,
   "id": "837e263c",
   "metadata": {},
   "outputs": [],
   "source": [
    "#result_df= result_df.iloc[:,2:]\n",
    "result_df"
   ]
  },
  {
   "cell_type": "code",
   "execution_count": null,
   "id": "eb707394",
   "metadata": {},
   "outputs": [],
   "source": [
    "import re\n",
    "def split_camel_case(s):\n",
    "    return ' '.join(re.findall(r'[A-Z][a-z]*', s))\n",
    "\n",
    "# Apply function to 'fact_taxonomy' column\n",
    "result_df['fact_taxonomy'] = result_df['fact_taxonomy'].apply(split_camel_case)\n",
    "result_df = result_df.drop('index', axis = 1)"
   ]
  },
  {
   "cell_type": "code",
   "execution_count": null,
   "id": "76c3ae3c",
   "metadata": {},
   "outputs": [],
   "source": [
    "# Reverse the order of columns\n",
    "reversed_columns = list(reversed(result_df.columns))\n",
    "\n",
    "# Reorder columns using reindex\n",
    "result_df = result_df.reindex(columns=reversed_columns)\n",
    "\n",
    "# Print or use the DataFrame with reversed columns\n",
    "\n",
    "result_df"
   ]
  },
  {
   "cell_type": "code",
   "execution_count": null,
   "id": "49e6681b",
   "metadata": {},
   "outputs": [],
   "source": [
    "columns = ['Ticker'] + [col for col in result_df.columns if col != 'Ticker']\n",
    "result_df = result_df[columns]\n",
    "\n",
    "# Print the combined DataFrame with 'Ticker' as the first column\n",
    "#combined_dfs= combined_df\n",
    "result_df"
   ]
  },
  {
   "cell_type": "code",
   "execution_count": null,
   "id": "082360b4",
   "metadata": {},
   "outputs": [],
   "source": [
    "result_df.to_csv('MSFT_CF.csv')"
   ]
  },
  {
   "cell_type": "code",
   "execution_count": null,
   "id": "475e8a19",
   "metadata": {},
   "outputs": [],
   "source": []
  },
  {
   "cell_type": "code",
   "execution_count": null,
   "id": "9ffd65e1",
   "metadata": {},
   "outputs": [],
   "source": []
  },
  {
   "cell_type": "code",
   "execution_count": null,
   "id": "cd486e51",
   "metadata": {},
   "outputs": [],
   "source": []
  },
  {
   "cell_type": "code",
   "execution_count": null,
   "id": "181c1ec8",
   "metadata": {},
   "outputs": [],
   "source": []
  },
  {
   "cell_type": "code",
   "execution_count": null,
   "id": "d526055e",
   "metadata": {},
   "outputs": [],
   "source": [
    "\n"
   ]
  },
  {
   "cell_type": "code",
   "execution_count": null,
   "id": "c907cb1b",
   "metadata": {},
   "outputs": [],
   "source": []
  },
  {
   "cell_type": "code",
   "execution_count": null,
   "id": "07e1dd1d",
   "metadata": {},
   "outputs": [],
   "source": [
    "#####"
   ]
  },
  {
   "cell_type": "code",
   "execution_count": null,
   "id": "9450935a",
   "metadata": {},
   "outputs": [],
   "source": [
    "\n"
   ]
  }
 ],
 "metadata": {
  "kernelspec": {
   "display_name": "Python 3 (ipykernel)",
   "language": "python",
   "name": "python3"
  },
  "language_info": {
   "codemirror_mode": {
    "name": "ipython",
    "version": 3
   },
   "file_extension": ".py",
   "mimetype": "text/x-python",
   "name": "python",
   "nbconvert_exporter": "python",
   "pygments_lexer": "ipython3",
   "version": "3.11.4"
  }
 },
 "nbformat": 4,
 "nbformat_minor": 5
}
