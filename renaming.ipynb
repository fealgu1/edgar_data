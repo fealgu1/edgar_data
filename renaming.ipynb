{
 "cells": [
  {
   "cell_type": "code",
   "execution_count": null,
   "metadata": {},
   "outputs": [],
   "source": [
    "from edgar_functions import *\n",
    "from headers import headers\n",
    "\n",
    "ticker =\"MSFT\""
   ]
  },
  {
   "cell_type": "code",
   "execution_count": null,
   "metadata": {},
   "outputs": [],
   "source": [
    "label_dict = get_label_dictionary(ticker, headers)\n",
    "#pd.DataFrame(label_dict.keys()).value_counts().to_csv('labels.csv')\n",
    "label_dict"
   ]
  },
  {
   "cell_type": "code",
   "execution_count": null,
   "metadata": {},
   "outputs": [],
   "source": [
    "accn = get_filtered_filings(ticker, ten_k=True, just_accession_numbers=False, headers=headers)\n",
    "accn"
   ]
  },
  {
   "cell_type": "code",
   "execution_count": null,
   "metadata": {},
   "outputs": [],
   "source": [
    "acc_num = accn[\"accessionNumber\"].iloc[1].replace(\"-\", \"\")\n",
    "soup = get_statement_soup( ticker,acc_num,'income_statement', headers=headers,statement_keys_map=statement_keys_map)\n",
    "statement = process_one_statement(ticker, acc_num, 'income_statement')"
   ]
  },
  {
   "cell_type": "code",
   "execution_count": null,
   "metadata": {},
   "outputs": [],
   "source": [
    "df = rename_statement(statement, label_dict)\n",
    "df"
   ]
  },
  {
   "cell_type": "code",
   "execution_count": null,
   "metadata": {},
   "outputs": [],
   "source": []
  },
  {
   "cell_type": "code",
   "execution_count": null,
   "metadata": {},
   "outputs": [],
   "source": []
  },
  {
   "cell_type": "code",
   "execution_count": null,
   "metadata": {},
   "outputs": [],
   "source": []
  },
  {
   "cell_type": "code",
   "execution_count": null,
   "metadata": {},
   "outputs": [],
   "source": [
    "#\"balance sheet\"\n",
    "acc_num = accn[\"accessionNumber\"].iloc[0].replace(\"-\", \"\")\n",
    "soup = get_statement_soup(\n",
    "    ticker,\n",
    "    acc_num,\n",
    "   \"balance_sheet\",\n",
    "    headers=headers,\n",
    "    statement_keys_map=statement_keys_map,\n",
    ")\n",
    "statement = process_one_statement(ticker, acc_num, \"balance_sheet\")"
   ]
  },
  {
   "cell_type": "code",
   "execution_count": null,
   "metadata": {},
   "outputs": [],
   "source": [
    "bsdaf = rename_statement(statement, label_dict)\n",
    "bsdaf.T"
   ]
  },
  {
   "cell_type": "code",
   "execution_count": null,
   "metadata": {},
   "outputs": [],
   "source": [
    "def get_facts(ticker, headers=headers):\n",
    "    cik = cik_matching_ticker(ticker)\n",
    "    url = f\"https://data.sec.gov/api/xbrl/companyfacts/CIK{cik}.json\"\n",
    "    company_facts = requests.get(url, headers=headers).json()\n",
    "    return company_facts\n",
    "get_facts('HA')"
   ]
  },
  {
   "cell_type": "code",
   "execution_count": null,
   "metadata": {},
   "outputs": [],
   "source": [
    "def cik_matching_ticker(ticker, headers=headers):\n",
    "    ticker = ticker.upper().replace(\".\", \"-\")\n",
    "    ticker_json = requests.get(\n",
    "        \"https://www.sec.gov/files/company_tickers.json\", headers=headers\n",
    "    ).json()\n",
    "\n",
    "    for company in ticker_json.values():\n",
    "        if company[\"ticker\"] == ticker:\n",
    "            cik = str(company[\"cik_str\"]).zfill(10)\n",
    "            return cik\n",
    "    raise ValueError(f\"Ticker {ticker} not found in SEC database\")\n",
    "cik_matching_ticker('HA', headers=headers)"
   ]
  },
  {
   "cell_type": "code",
   "execution_count": null,
   "metadata": {},
   "outputs": [],
   "source": [
    "def get_statement_file_names_in_filing_summary(\n",
    "    ticker, accession_number, headers=headers\n",
    "):\n",
    "    try:\n",
    "        session = requests.Session()\n",
    "        cik = cik_matching_ticker(ticker)\n",
    "        base_link = f\"https://www.sec.gov/Archives/edgar/data/{cik}/{accession_number}\"\n",
    "        filing_summary_link = f\"{base_link}/FilingSummary.xml\"\n",
    "        filing_summary_response = session.get(\n",
    "            filing_summary_link, headers=headers\n",
    "        ).content.decode(\"utf-8\")\n",
    "\n",
    "        filing_summary_soup = BeautifulSoup(filing_summary_response, \"lxml-xml\")\n",
    "        statement_file_names_dict = {}\n",
    "\n",
    "        for report in filing_summary_soup.find_all(\"Report\"):\n",
    "            file_name = _get_file_name(report)\n",
    "            short_name, long_name = report.find(\"ShortName\"), report.find(\"LongName\")\n",
    "\n",
    "            if _is_statement_file(short_name, long_name, file_name):\n",
    "                statement_file_names_dict[short_name.text.lower()] = file_name\n",
    "\n",
    "        return statement_file_names_dict\n",
    "\n",
    "    except requests.RequestException as e:\n",
    "        print(f\"An error occurred: {e}\")\n",
    "        return {}"
   ]
  },
  {
   "cell_type": "code",
   "execution_count": null,
   "metadata": {},
   "outputs": [],
   "source": []
  },
  {
   "cell_type": "code",
   "execution_count": null,
   "metadata": {},
   "outputs": [],
   "source": [
    "import pandas as pd\n",
    "\n",
    "# Assuming the JSON file is named \"data.json\" and is in the current directory\n",
    "\n",
    "\n",
    "# Read the JSON file into a DataFrame\n",
    "df = pd.read_json(\"CIK0001099219.json\")\n",
    "\n",
    "# Display the DataFrame\n",
    "print(df)\n"
   ]
  },
  {
   "cell_type": "code",
   "execution_count": null,
   "metadata": {},
   "outputs": [],
   "source": [
    "df['facts']['us-gaap']"
   ]
  },
  {
   "cell_type": "code",
   "execution_count": null,
   "metadata": {},
   "outputs": [],
   "source": []
  }
 ],
 "metadata": {
  "kernelspec": {
   "display_name": "Python 3 (ipykernel)",
   "language": "python",
   "name": "python3"
  },
  "language_info": {
   "codemirror_mode": {
    "name": "ipython",
    "version": 3
   },
   "file_extension": ".py",
   "mimetype": "text/x-python",
   "name": "python",
   "nbconvert_exporter": "python",
   "pygments_lexer": "ipython3",
   "version": "3.11.4"
  }
 },
 "nbformat": 4,
 "nbformat_minor": 2
}
